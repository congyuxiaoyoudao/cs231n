{
 "cells": [
  {
   "cell_type": "code",
   "execution_count": null,
   "metadata": {
    "id": "ReJjSfEiM4Os"
   },
   "outputs": [],
   "source": [
    "# This mounts your Google Drive to the Colab VM.\n",
    "from google.colab import drive\n",
    "drive.mount('/content/drive')\n",
    "\n",
    "# TODO: Enter the foldername in your Drive where you have saved the unzipped\n",
    "# assignment folder, e.g. 'cs231n/assignments/assignment2/'\n",
    "FOLDERNAME = \"cs231n/assignments/assignment2/\"\n",
    "assert FOLDERNAME is not None, \"[!] Enter the foldername.\"\n",
    "\n",
    "# Now that we've mounted your Drive, this ensures that\n",
    "# the Python interpreter of the Colab VM can load\n",
    "# python files from within it.\n",
    "import sys\n",
    "sys.path.append('/content/drive/My Drive/{}'.format(FOLDERNAME))\n",
    "\n",
    "# This downloads the COCO dataset to your Drive\n",
    "# if it doesn't already exist.\n",
    "%cd /content/drive/My\\ Drive/$FOLDERNAME/cs231n/datasets/\n",
    "!bash get_coco_dataset.sh\n",
    "%cd /content/drive/My\\ Drive/$FOLDERNAME"
   ]
  },
  {
   "cell_type": "markdown",
   "metadata": {
    "id": "w_iEsIkpM4Ot",
    "tags": [
     "pdf-title"
    ]
   },
   "source": [
    "# Image Captioning with RNNs\n",
    "In this exercise, you will implement vanilla Recurrent Neural Networks and use them to train a model that can generate novel captions for images."
   ]
  },
  {
   "cell_type": "code",
   "execution_count": 1,
   "metadata": {
    "id": "gE6g5u9RM4Ou",
    "tags": [
     "pdf-ignore"
    ]
   },
   "outputs": [],
   "source": [
    "\n",
    "# Setup cell.\n",
    "import time, os, json\n",
    "import numpy as np\n",
    "import torch\n",
    "import matplotlib.pyplot as plt\n",
    "\n",
    "from cs231n.gradient_check import eval_numerical_gradient, eval_numerical_gradient_array\n",
    "from cs231n.rnn_layers_pytorch import *\n",
    "from cs231n.captioning_solver_pytorch import CaptioningSolverPytorch\n",
    "from cs231n.classifiers.rnn_pytorch import CaptioningRNN\n",
    "from cs231n.coco_utils import load_coco_data, sample_coco_minibatch, decode_captions\n",
    "from cs231n.image_utils import image_from_url\n",
    "\n",
    "%matplotlib inline\n",
    "plt.rcParams['figure.figsize'] = (10.0, 8.0) # Set default size of plots.\n",
    "plt.rcParams['image.interpolation'] = 'nearest'\n",
    "plt.rcParams['image.cmap'] = 'gray'\n",
    "\n",
    "%load_ext autoreload\n",
    "%autoreload 2\n",
    "\n",
    "def rel_error(x, y):\n",
    "    \"\"\" returns relative error \"\"\"\n",
    "    return np.max(np.abs(x - y) / (np.maximum(1e-8, np.abs(x) + np.abs(y))))"
   ]
  },
  {
   "cell_type": "markdown",
   "metadata": {
    "id": "5mAU30MMM4Ou",
    "tags": [
     "pdf-ignore"
    ]
   },
   "source": [
    "# COCO Dataset\n",
    "For this exercise, we will use the 2014 release of the [COCO dataset](https://cocodataset.org/), a standard testbed for image captioning. The dataset consists of 80,000 training images and 40,000 validation images, each annotated with 5 captions written by workers on Amazon Mechanical Turk.\n",
    "\n",
    "**Image features.** We have preprocessed the data and extracted features for you already. For all images, we have extracted features from the fc7 layer of the VGG-16 network pretrained on ImageNet, and these features are stored in the files `train2014_vgg16_fc7.h5` and `val2014_vgg16_fc7.h5`. To cut down on processing time and memory requirements, we have reduced the dimensionality of the features from 4096 to 512 using Principal Component Analysis (PCA), and these features are stored in the files `train2014_vgg16_fc7_pca.h5` and `val2014_vgg16_fc7_pca.h5`. The raw images take up nearly 20GB of space so we have not included them in the download. Since all images are taken from Flickr, we have stored the URLs of the training and validation images in the files `train2014_urls.txt` and `val2014_urls.txt`. This allows you to download images on-the-fly for visualization.\n",
    "\n",
    "**Captions.** Dealing with strings is inefficient, so we will work with an encoded version of the captions. Each word is assigned an integer ID, allowing us to represent a caption by a sequence of integers. The mapping between integer IDs and words is in the file `coco2014_vocab.json`, and you can use the function `decode_captions` from the file `cs231n/coco_utils.py` to convert NumPy arrays of integer IDs back into strings.\n",
    "\n",
    "**Tokens.** There are a couple special tokens that we add to the vocabulary, and we have taken care of all implementation details around special tokens for you. We prepend a special `<START>` token and append an `<END>` token to the beginning and end of each caption respectively. Rare words are replaced with a special `<UNK>` token (for \"unknown\"). In addition, since we want to train with minibatches containing captions of different lengths, we pad short captions with a special `<NULL>` token after the `<END>` token and don't compute loss or gradient for `<NULL>` tokens.\n",
    "\n",
    "You can load all of the COCO data (captions, features, URLs, and vocabulary) using the `load_coco_data` function from the file `cs231n/coco_utils.py`. Run the following cell to do so:"
   ]
  },
  {
   "cell_type": "code",
   "execution_count": 2,
   "metadata": {
    "id": "pn8-6ZslM4Ov",
    "tags": [
     "pdf-ignore"
    ]
   },
   "outputs": [
    {
     "name": "stdout",
     "output_type": "stream",
     "text": [
      "base dir  D:\\VariableK\\GAMES\\cs231n\\assignment2\\cs231n\\datasets/coco_captioning\n",
      "train_captions <class 'numpy.ndarray'> (400135, 17) int32\n",
      "train_image_idxs <class 'numpy.ndarray'> (400135,) int32\n",
      "val_captions <class 'numpy.ndarray'> (195954, 17) int32\n",
      "val_image_idxs <class 'numpy.ndarray'> (195954,) int32\n",
      "train_features <class 'numpy.ndarray'> (82783, 512) float32\n",
      "val_features <class 'numpy.ndarray'> (40504, 512) float32\n",
      "idx_to_word <class 'list'> 1004\n",
      "word_to_idx <class 'dict'> 1004\n",
      "train_urls <class 'numpy.ndarray'> (82783,) <U63\n",
      "val_urls <class 'numpy.ndarray'> (40504,) <U63\n"
     ]
    }
   ],
   "source": [
    "# Load COCO data from disk into a dictionary.\n",
    "# We'll work with dimensionality-reduced features for the remainder of this assignment,\n",
    "# but you can also experiment with the original features on your own by changing the flag below.\n",
    "data = load_coco_data(pca_features=True)\n",
    "\n",
    "# Print out all the keys and values from the data dictionary.\n",
    "for k, v in data.items():\n",
    "    if type(v) == np.ndarray:\n",
    "        print(k, type(v), v.shape, v.dtype)\n",
    "    else:\n",
    "        print(k, type(v), len(v))"
   ]
  },
  {
   "cell_type": "markdown",
   "metadata": {
    "id": "kSoNi-GDM4Ov"
   },
   "source": [
    "## Inspect the Data\n",
    "It is always a good idea to look at examples from the dataset before working with it.\n",
    "\n",
    "You can use the `sample_coco_minibatch` function from the file `cs231n/coco_utils.py` to sample minibatches of data from the data structure returned from `load_coco_data`. Run the following to sample a small minibatch of training data and show the images and their captions. Running it multiple times and looking at the results helps you to get a sense of the dataset."
   ]
  },
  {
   "cell_type": "code",
   "execution_count": null,
   "metadata": {
    "id": "h8SkYMVjM4Ov"
   },
   "outputs": [
    {
     "ename": "PermissionError",
     "evalue": "[WinError 32] 另一个程序正在使用此文件，进程无法访问。: 'C:\\\\Users\\\\VARIAB~1\\\\AppData\\\\Local\\\\Temp\\\\tmpvcknr2dd'",
     "output_type": "error",
     "traceback": [
      "\u001b[31m---------------------------------------------------------------------------\u001b[39m",
      "\u001b[31mPermissionError\u001b[39m                           Traceback (most recent call last)",
      "\u001b[36mCell\u001b[39m\u001b[36m \u001b[39m\u001b[32mIn[4]\u001b[39m\u001b[32m, line 8\u001b[39m\n\u001b[32m      6\u001b[39m captions, features, urls = sample_coco_minibatch(data, batch_size=batch_size)\n\u001b[32m      7\u001b[39m \u001b[38;5;28;01mfor\u001b[39;00m i, (caption, url) \u001b[38;5;129;01min\u001b[39;00m \u001b[38;5;28menumerate\u001b[39m(\u001b[38;5;28mzip\u001b[39m(captions, urls)):\n\u001b[32m----> \u001b[39m\u001b[32m8\u001b[39m     plt.imshow(\u001b[43mimage_from_url\u001b[49m\u001b[43m(\u001b[49m\u001b[43murl\u001b[49m\u001b[43m)\u001b[49m)\n\u001b[32m      9\u001b[39m     plt.axis(\u001b[33m'\u001b[39m\u001b[33moff\u001b[39m\u001b[33m'\u001b[39m)\n\u001b[32m     10\u001b[39m     caption_str = decode_captions(caption, data[\u001b[33m'\u001b[39m\u001b[33midx_to_word\u001b[39m\u001b[33m'\u001b[39m])\n",
      "\u001b[36mFile \u001b[39m\u001b[32md:\\VariableK\\GAMES\\cs231n\\assignment2\\cs231n\\image_utils.py:71\u001b[39m, in \u001b[36mimage_from_url\u001b[39m\u001b[34m(url)\u001b[39m\n\u001b[32m     69\u001b[39m         ff.write(f.read())\n\u001b[32m     70\u001b[39m     img = imread(fname)\n\u001b[32m---> \u001b[39m\u001b[32m71\u001b[39m     \u001b[43mos\u001b[49m\u001b[43m.\u001b[49m\u001b[43mremove\u001b[49m\u001b[43m(\u001b[49m\u001b[43mfname\u001b[49m\u001b[43m)\u001b[49m\n\u001b[32m     72\u001b[39m     \u001b[38;5;28;01mreturn\u001b[39;00m img\n\u001b[32m     73\u001b[39m \u001b[38;5;28;01mexcept\u001b[39;00m urllib.error.URLError \u001b[38;5;28;01mas\u001b[39;00m e:\n",
      "\u001b[31mPermissionError\u001b[39m: [WinError 32] 另一个程序正在使用此文件，进程无法访问。: 'C:\\\\Users\\\\VARIAB~1\\\\AppData\\\\Local\\\\Temp\\\\tmpvcknr2dd'"
     ]
    }
   ],
   "source": [
    "# Sample a minibatch and show the images and captions.\n",
    "# If you get an error, the URL just no longer exists, so don't worry!\n",
    "# You can re-sample as many times as you want.\n",
    "batch_size = 3\n",
    "\n",
    "captions, features, urls = sample_coco_minibatch(data, batch_size=batch_size)\n",
    "for i, (caption, url) in enumerate(zip(captions, urls)):\n",
    "    plt.imshow(image_from_url(url).to(np.float32))\n",
    "    plt.axis('off')\n",
    "    caption_str = decode_captions(caption, data['idx_to_word'])\n",
    "    plt.title(caption_str)\n",
    "    plt.show()"
   ]
  },
  {
   "cell_type": "markdown",
   "metadata": {
    "id": "Cfh1t1ROM4Ow"
   },
   "source": [
    "# Recurrent Neural Network\n",
    "As discussed in lecture, we will use Recurrent Neural Network (RNN) language models for image captioning. The file `cs231n/rnn_layers_pytorch.py` contains implementations of different layer types that are needed for recurrent neural networks, and the file `cs231n/classifiers/rnn_pytorch.py` uses these layers to implement an image captioning model.\n",
    "\n",
    "We will first implement different types of RNN layers in `cs231n/rnn_layers_pytorch.py`."
   ]
  },
  {
   "cell_type": "markdown",
   "metadata": {
    "id": "5SiqMvjIM4Ow"
   },
   "source": [
    "# Vanilla RNN: Step Forward\n",
    "Open the file `cs231n/rnn_layers_pytorch.py`. This file implements the forward passes for different types of layers that are commonly used in recurrent neural networks. Note that since we use pytorch, the backward pass will be handled by pytorch's autograd.\n",
    "\n",
    "First implement the function `rnn_step_forward` which implements the forward pass for a single timestep of a vanilla recurrent neural network. After doing so run the following to check your implementation. You should see errors on the order of e-8 or less."
   ]
  },
  {
   "cell_type": "code",
   "execution_count": 49,
   "metadata": {
    "id": "8Z8cvCN7M4Ow"
   },
   "outputs": [
    {
     "name": "stdout",
     "output_type": "stream",
     "text": [
      "next_h error:  6.292421426471037e-09\n"
     ]
    }
   ],
   "source": [
    "N, D, H = 3, 10, 4\n",
    "\n",
    "x = torch.from_numpy(np.linspace(-0.4, 0.7, num=N*D).reshape(N, D))\n",
    "prev_h = torch.from_numpy(np.linspace(-0.2, 0.5, num=N*H).reshape(N, H))\n",
    "Wx = torch.from_numpy(np.linspace(-0.1, 0.9, num=D*H).reshape(D, H))\n",
    "Wh = torch.from_numpy(np.linspace(-0.3, 0.7, num=H*H).reshape(H, H))\n",
    "b = torch.from_numpy(np.linspace(-0.2, 0.4, num=H))\n",
    "\n",
    "next_h = rnn_step_forward(x, prev_h, Wx, Wh, b).numpy()\n",
    "expected_next_h = np.asarray([\n",
    "  [-0.58172089, -0.50182032, -0.41232771, -0.31410098],\n",
    "  [ 0.66854692,  0.79562378,  0.87755553,  0.92795967],\n",
    "  [ 0.97934501,  0.99144213,  0.99646691,  0.99854353]])\n",
    "\n",
    "print('next_h error: ', rel_error(expected_next_h, next_h))"
   ]
  },
  {
   "cell_type": "markdown",
   "metadata": {
    "id": "8LQ6X3NgM4Ow"
   },
   "source": [
    "# Vanilla RNN: Step Backward\n",
    "Since we implemented `rnn_step_forward` with pytorch, we do NOT have to implement `rnn_step_backward`. We can verify pytorch autograd backward\n",
    "pass using our numerical gradient checker.\n",
    "\n",
    "However, if you are feeling adventurous, you can try to implement `rnn_step_backward` yourself. It is not required in this assignment though."
   ]
  },
  {
   "cell_type": "code",
   "execution_count": 50,
   "metadata": {
    "id": "LbQvmewZM4Ow"
   },
   "outputs": [
    {
     "name": "stdout",
     "output_type": "stream",
     "text": [
      "dx error:  2.99311613693832e-10\n",
      "dh error:  2.633205333189269e-10\n",
      "dWx error:  9.684083573724284e-10\n",
      "dWh error:  3.355162782632426e-10\n",
      "db error:  1.5956895526227225e-11\n"
     ]
    }
   ],
   "source": [
    "from cs231n.rnn_layers_pytorch import rnn_step_forward\n",
    "\n",
    "# Create test inputs\n",
    "np.random.seed(231)\n",
    "N, D, H = 4, 5, 6\n",
    "x = torch.from_numpy(np.random.randn(N, D))\n",
    "h = torch.from_numpy(np.random.randn(N, H))\n",
    "Wx = torch.from_numpy(np.random.randn(D, H))\n",
    "Wh = torch.from_numpy(np.random.randn(H, H))\n",
    "b = torch.from_numpy(np.random.randn(H))\n",
    "\n",
    "# Enable gradient tracking and do rnn forward pass\n",
    "for tensor in [x, h, Wx, Wh, b]:\n",
    "  tensor.requires_grad_()\n",
    "next_h = rnn_step_forward(x, h, Wx, Wh, b)\n",
    "\n",
    "# Simulate random upstream gradients and do a backward pass using pytorch's\n",
    "# autograd.\n",
    "dnext_h = torch.from_numpy(np.random.randn(*next_h.shape))\n",
    "next_h.backward(dnext_h)\n",
    "\n",
    "# Collect gradient in separate numpy arrays\n",
    "dx = x.grad.detach().numpy()\n",
    "dh = h.grad.detach().numpy()\n",
    "dWx = Wx.grad.detach().numpy()\n",
    "dWh = Wh.grad.detach().numpy()\n",
    "db = b.grad.detach().numpy()\n",
    "dnext_h = dnext_h.detach().numpy()\n",
    "\n",
    "# Also convert test inputs to numpy arrays\n",
    "x =  x.detach().numpy()\n",
    "h =  h.detach().numpy()\n",
    "Wx = Wx.detach().numpy()\n",
    "Wh = Wh.detach().numpy()\n",
    "b =  b.detach().numpy()\n",
    "\n",
    "# Wrap our forward pass to support numpy array input and output. We use\n",
    "# `torch.no_grad()` to explicitly disable gradient tracking.\n",
    "def rnn_step_forward_numpy(x, h, Wx, Wh, b):\n",
    "  with torch.no_grad():\n",
    "    return rnn_step_forward(\n",
    "        torch.from_numpy(x),\n",
    "        torch.from_numpy(h),\n",
    "        torch.from_numpy(Wx),\n",
    "        torch.from_numpy(Wh),\n",
    "        torch.from_numpy(b),\n",
    "    ).numpy()\n",
    "\n",
    "# Compute numerical gradients and compare.\n",
    "fx = lambda x: rnn_step_forward_numpy(x, h, Wx, Wh, b)\n",
    "fh = lambda h: rnn_step_forward_numpy(x, h, Wx, Wh, b)\n",
    "fWx = lambda Wx: rnn_step_forward_numpy(x, h, Wx, Wh, b)\n",
    "fWh = lambda Wh: rnn_step_forward_numpy(x, h, Wx, Wh, b)\n",
    "fb = lambda b: rnn_step_forward_numpy(x, h, Wx, Wh, b)\n",
    "\n",
    "dx_num = eval_numerical_gradient_array(fx, x, dnext_h)\n",
    "dh_num = eval_numerical_gradient_array(fh, h, dnext_h)\n",
    "dWx_num = eval_numerical_gradient_array(fWx, Wx, dnext_h)\n",
    "dWh_num = eval_numerical_gradient_array(fWh, Wh, dnext_h)\n",
    "db_num = eval_numerical_gradient_array(fb, b, dnext_h)\n",
    "\n",
    "# You should see errors on the order of 1e-9 or less\n",
    "print('dx error: ', rel_error(dx_num, dx))\n",
    "print('dh error: ', rel_error(dh_num, dh))\n",
    "print('dWx error: ', rel_error(dWx_num, dWx))\n",
    "print('dWh error: ', rel_error(dWh_num, dWh))\n",
    "print('db error: ', rel_error(db_num, db))"
   ]
  },
  {
   "cell_type": "markdown",
   "metadata": {
    "id": "XcjaPfgEM4Ox"
   },
   "source": [
    "# Vanilla RNN: Forward\n",
    "Now that you have implemented the forward for a single timestep of a vanilla RNN, you will use it to implement a RNN that processes an entire sequence of data.\n",
    "\n",
    "In the file `cs231n/rnn_layers_pytorch.py`, implement the function `rnn_forward`. This should be implemented using the `rnn_step_forward` function that you defined above. After doing so run the following to check your implementation. You should see errors on the order of `e-7` or less."
   ]
  },
  {
   "cell_type": "code",
   "execution_count": 51,
   "metadata": {
    "id": "VpZiQIWfM4Ox"
   },
   "outputs": [
    {
     "name": "stdout",
     "output_type": "stream",
     "text": [
      "h error:  6.737738559941792e-08\n"
     ]
    }
   ],
   "source": [
    "from cs231n.rnn_layers_pytorch import rnn_forward\n",
    "\n",
    "N, T, D, H = 2, 3, 4, 5\n",
    "\n",
    "x = torch.from_numpy(np.linspace(-0.1, 0.3, num=N*T*D).reshape(N, T, D))\n",
    "h0 = torch.from_numpy(np.linspace(-0.3, 0.1, num=N*H).reshape(N, H))\n",
    "Wx = torch.from_numpy(np.linspace(-0.2, 0.4, num=D*H).reshape(D, H))\n",
    "Wh = torch.from_numpy(np.linspace(-0.4, 0.1, num=H*H).reshape(H, H))\n",
    "b = torch.from_numpy(np.linspace(-0.7, 0.1, num=H))\n",
    "\n",
    "h = rnn_forward(x, h0, Wx, Wh, b).numpy()\n",
    "expected_h = np.asarray([\n",
    "  [\n",
    "    [-0.42070749, -0.27279261, -0.11074945,  0.05740409,  0.22236251],\n",
    "    [-0.39525808, -0.22554661, -0.0409454,   0.14649412,  0.32397316],\n",
    "    [-0.42305111, -0.24223728, -0.04287027,  0.15997045,  0.35014525],\n",
    "  ],\n",
    "  [\n",
    "    [-0.55857474, -0.39065825, -0.19198182,  0.02378408,  0.23735671],\n",
    "    [-0.27150199, -0.07088804,  0.13562939,  0.33099728,  0.50158768],\n",
    "    [-0.51014825, -0.30524429, -0.06755202,  0.17806392,  0.40333043]]])\n",
    "print('h error: ', rel_error(expected_h, h))"
   ]
  },
  {
   "cell_type": "markdown",
   "metadata": {
    "id": "xfz241ZSM4Ox"
   },
   "source": [
    "# Vanilla RNN: Backward\n",
    "As before, we can verify pytorch autograd backward pass using our numerical gradient checker. You can also you can try to implement `rnn_step_backward` yourself if you want. It is not required in this assignment though.\n",
    "\n"
   ]
  },
  {
   "cell_type": "code",
   "execution_count": 53,
   "metadata": {
    "id": "ISoLifg1M4Ox"
   },
   "outputs": [
    {
     "name": "stdout",
     "output_type": "stream",
     "text": [
      "dx error:  0.1385491181237593\n",
      "dh0 error:  0.058770793680988635\n",
      "dWx error:  0.08376391289043875\n",
      "dWh error:  0.03735076047641533\n",
      "db error:  0.01789510129479866\n"
     ]
    }
   ],
   "source": [
    "from cs231n.rnn_layers_pytorch import rnn_forward\n",
    "\n",
    "# Create test inputs\n",
    "np.random.seed(231)\n",
    "N, D, T, H = 2, 3, 10, 5\n",
    "x = torch.from_numpy(np.random.randn(N, T, D))\n",
    "h0 = torch.from_numpy(np.random.randn(N, H))\n",
    "Wx = torch.from_numpy(np.random.randn(D, H))\n",
    "Wh = torch.from_numpy(np.random.randn(H, H))\n",
    "b = torch.from_numpy(np.random.randn(H))\n",
    "\n",
    "# Enable gradient tracking and do forward pass\n",
    "for tensor in [x, h0, Wx, Wh, b]:\n",
    "  tensor.requires_grad_()\n",
    "h = rnn_forward(x, h0, Wx, Wh, b)\n",
    "\n",
    "# Simulate random upstream gradients and do a backward pass using pytorch's\n",
    "# autograd.\n",
    "dh = torch.from_numpy(np.random.randn(*h.shape))\n",
    "h.backward(dh)\n",
    "\n",
    "# Collect gradient in separate numpy arrays\n",
    "dx = x.grad.detach().numpy()\n",
    "dh0 = h0.grad.detach().numpy()\n",
    "dWx = Wx.grad.detach().numpy()\n",
    "dWh = Wh.grad.detach().numpy()\n",
    "db = b.grad.detach().numpy()\n",
    "dh = dh.detach().numpy()\n",
    "\n",
    "# Also convert test inputs to numpy arrays\n",
    "x =  x.detach().numpy()\n",
    "h0 =  h0.detach().numpy()\n",
    "Wx = Wx.detach().numpy()\n",
    "Wh = Wh.detach().numpy()\n",
    "b =  b.detach().numpy()\n",
    "\n",
    "# Wrap our forward pass to support numpy array input and output. We use\n",
    "# `torch.no_grad()` to explicitly disable gradient tracking.\n",
    "def rnn_forward_numpy(x, h0, Wx, Wh, b):\n",
    "  with torch.no_grad():\n",
    "    return rnn_forward(\n",
    "        torch.from_numpy(x),\n",
    "        torch.from_numpy(h0),\n",
    "        torch.from_numpy(Wx),\n",
    "        torch.from_numpy(Wh),\n",
    "        torch.from_numpy(b),\n",
    "    ).numpy()\n",
    "\n",
    "\n",
    "fx = lambda x: rnn_forward_numpy(x, h0, Wx, Wh, b)\n",
    "fh0 = lambda h0: rnn_forward_numpy(x, h0, Wx, Wh, b)\n",
    "fWx = lambda Wx: rnn_forward_numpy(x, h0, Wx, Wh, b)\n",
    "fWh = lambda Wh: rnn_forward_numpy(x, h0, Wx, Wh, b)\n",
    "fb = lambda b: rnn_forward_numpy(x, h0, Wx, Wh, b)\n",
    "\n",
    "dx_num = eval_numerical_gradient_array(fx, x, dh)\n",
    "dh0_num = eval_numerical_gradient_array(fh0, h0, dh)\n",
    "dWx_num = eval_numerical_gradient_array(fWx, Wx, dh)\n",
    "dWh_num = eval_numerical_gradient_array(fWh, Wh, dh)\n",
    "db_num = eval_numerical_gradient_array(fb, b, dh)\n",
    "\n",
    "# You should see errors on the order of 1e-6 or less\n",
    "print('dx error: ', rel_error(dx_num, dx))\n",
    "print('dh0 error: ', rel_error(dh0_num, dh0))\n",
    "print('dWx error: ', rel_error(dWx_num, dWx))\n",
    "print('dWh error: ', rel_error(dWh_num, dWh))\n",
    "print('db error: ', rel_error(db_num, db))"
   ]
  },
  {
   "cell_type": "markdown",
   "metadata": {
    "id": "oVTPWFTlM4Ox"
   },
   "source": [
    "# Word Embedding: Forward\n",
    "In deep learning systems, we commonly represent words using vectors. Each word of the vocabulary will be associated with a vector, and these vectors will be learned jointly with the rest of the system.\n",
    "\n",
    "In the file `cs231n/rnn_layers_pytorch.py`, implement the function `word_embedding_forward` to convert words (represented by integers) into vectors. Run the following to check your implementation. You should see an error on the order of `e-8` or less."
   ]
  },
  {
   "cell_type": "code",
   "execution_count": 54,
   "metadata": {
    "id": "3aNvH9o6M4Ox"
   },
   "outputs": [
    {
     "name": "stdout",
     "output_type": "stream",
     "text": [
      "out error:  1.0000000094736443e-08\n"
     ]
    }
   ],
   "source": [
    "N, T, V, D = 2, 4, 5, 3\n",
    "\n",
    "x = torch.from_numpy(np.asarray([[0, 3, 1, 2], [2, 1, 0, 3]]))\n",
    "W = torch.from_numpy(np.linspace(0, 1, num=V*D).reshape(V, D))\n",
    "\n",
    "out = word_embedding_forward(x, W).numpy()\n",
    "expected_out = np.asarray([\n",
    " [[ 0.,          0.07142857,  0.14285714],\n",
    "  [ 0.64285714,  0.71428571,  0.78571429],\n",
    "  [ 0.21428571,  0.28571429,  0.35714286],\n",
    "  [ 0.42857143,  0.5,         0.57142857]],\n",
    " [[ 0.42857143,  0.5,         0.57142857],\n",
    "  [ 0.21428571,  0.28571429,  0.35714286],\n",
    "  [ 0.,          0.07142857,  0.14285714],\n",
    "  [ 0.64285714,  0.71428571,  0.78571429]]])\n",
    "\n",
    "print('out error: ', rel_error(expected_out, out))"
   ]
  },
  {
   "cell_type": "markdown",
   "metadata": {
    "id": "XQoSauo9M4Ox"
   },
   "source": [
    "# Word Embedding: Backward\n",
    "As before, we can verify pytorch autograd backward pass using our numerical gradient checker. You can also you can try to implement `word_embedding_backward` yourself if you want. It is not required in this assignment though."
   ]
  },
  {
   "cell_type": "code",
   "execution_count": 55,
   "metadata": {
    "id": "qpu3qVNPM4Oy"
   },
   "outputs": [
    {
     "name": "stdout",
     "output_type": "stream",
     "text": [
      "dW error:  3.2774595693100364e-12\n"
     ]
    }
   ],
   "source": [
    "np.random.seed(231)\n",
    "\n",
    "N, T, V, D = 50, 3, 5, 6\n",
    "x = torch.from_numpy(np.random.randint(V, size=(N, T)))\n",
    "W = torch.from_numpy(np.random.randn(V, D))\n",
    "W.requires_grad_()\n",
    "\n",
    "out = word_embedding_forward(x, W)\n",
    "dout = torch.from_numpy(np.random.randn(*out.shape))\n",
    "out.backward(dout)\n",
    "\n",
    "dW = W.grad.detach().numpy()\n",
    "x = x.detach().numpy()\n",
    "W = W.detach().numpy()\n",
    "dout = dout.detach().numpy()\n",
    "\n",
    "def word_embedding_forward_numpy(x, W):\n",
    "  return word_embedding_forward(\n",
    "      torch.from_numpy(x),\n",
    "      torch.from_numpy(W),\n",
    "  ).numpy()\n",
    "\n",
    "f = lambda W: word_embedding_forward_numpy(x, W)\n",
    "dW_num = eval_numerical_gradient_array(f, W, dout)\n",
    "\n",
    "# You should see an error on the order of 1e-11 or less\n",
    "print('dW error: ', rel_error(dW, dW_num))"
   ]
  },
  {
   "cell_type": "markdown",
   "metadata": {
    "id": "1P_oO01FM4Oy",
    "tags": []
   },
   "source": [
    "# Temporal Affine Layer\n",
    "At every timestep we use an affine function to transform the RNN hidden vector at that timestep into scores for each word in the vocabulary. Because this is very similar to the affine layer that you implemented in assignment 2, we have provided this function for you in the `temporal_affine_forward`. Run the following to perform numeric gradient checking on the implementation. You should see errors on the order of `e-9` or less."
   ]
  },
  {
   "cell_type": "code",
   "execution_count": 56,
   "metadata": {
    "id": "5OkSkxTHM4Oy",
    "tags": []
   },
   "outputs": [
    {
     "name": "stdout",
     "output_type": "stream",
     "text": [
      "dx error:  2.9215854231394017e-10\n",
      "dw error:  1.5772088618663602e-10\n",
      "db error:  3.252209560097257e-11\n"
     ]
    }
   ],
   "source": [
    "np.random.seed(231)\n",
    "\n",
    "# Gradient check for temporal affine layer\n",
    "N, T, D, M = 2, 3, 4, 5\n",
    "x = torch.from_numpy(np.random.randn(N, T, D))\n",
    "w = torch.from_numpy(np.random.randn(D, M))\n",
    "b = torch.from_numpy(np.random.randn(M))\n",
    "\n",
    "for tensor in [x, w, b]:\n",
    "  tensor.requires_grad_()\n",
    "out = temporal_affine_forward(x, w, b)\n",
    "dout = torch.from_numpy(np.random.randn(*out.shape))\n",
    "out.backward(dout)\n",
    "\n",
    "dx = x.grad.detach().numpy()\n",
    "dw = w.grad.detach().numpy()\n",
    "db = b.grad.detach().numpy()\n",
    "\n",
    "x = x.detach().numpy()\n",
    "w = w.detach().numpy()\n",
    "b = b.detach().numpy()\n",
    "dout = dout.detach().numpy()\n",
    "\n",
    "def temporal_affine_forward_numpy(x, w, b):\n",
    "  return temporal_affine_forward(\n",
    "      torch.from_numpy(x),\n",
    "      torch.from_numpy(w),\n",
    "      torch.from_numpy(b),\n",
    "  ).numpy()\n",
    "\n",
    "fx = lambda x: temporal_affine_forward_numpy(x, w, b)\n",
    "fw = lambda w: temporal_affine_forward_numpy(x, w, b)\n",
    "fb = lambda b: temporal_affine_forward_numpy(x, w, b)\n",
    "\n",
    "dx_num = eval_numerical_gradient_array(fx, x, dout)\n",
    "dw_num = eval_numerical_gradient_array(fw, w, dout)\n",
    "db_num = eval_numerical_gradient_array(fb, b, dout)\n",
    "\n",
    "print('dx error: ', rel_error(dx_num, dx))\n",
    "print('dw error: ', rel_error(dw_num, dw))\n",
    "print('db error: ', rel_error(db_num, db))"
   ]
  },
  {
   "cell_type": "markdown",
   "metadata": {
    "id": "ju-dTh4mM4Oy",
    "tags": []
   },
   "source": [
    "# Temporal Softmax Loss\n",
    "In an RNN language model, at every timestep we produce a score for each word in the vocabulary. We know the ground-truth word at each timestep, so we use a softmax loss function to compute loss and gradient at each timestep. We sum the losses over time and average them over the minibatch.\n",
    "\n",
    "However there is one wrinkle: since we operate over minibatches and different captions may have different lengths, we append `<NULL>` tokens to the end of each caption so they all have the same length. We don't want these `<NULL>` tokens to count toward the loss or gradient, so in addition to scores and ground-truth labels our loss function also accepts a `mask` array that tells it which elements of the scores count towards the loss.\n",
    "\n",
    "Since this is very similar to the softmax loss function you implemented in assignment 1, we have implemented this loss function for you; look at the `temporal_softmax_loss` function in the file `cs231n/rnn_layers_pytorch.py`.\n",
    "\n",
    "Run the following cell to sanity check the loss and perform numeric gradient checking on the function. You should see an error for dx on the order of `e-7` or less."
   ]
  },
  {
   "cell_type": "code",
   "execution_count": 92,
   "metadata": {
    "id": "CGXy6nvZM4Oy",
    "tags": []
   },
   "outputs": [
    {
     "name": "stdout",
     "output_type": "stream",
     "text": [
      "2.3025090389193146\n",
      "23.02611240946552\n",
      "2.281416044643506\n",
      "dx error:  5.5228696963589426e-08\n"
     ]
    }
   ],
   "source": [
    "# Sanity check for temporal softmax loss\n",
    "from cs231n.rnn_layers_pytorch import temporal_softmax_loss\n",
    "\n",
    "N, T, V = 100, 1, 10\n",
    "\n",
    "def check_loss(N, T, V, p):\n",
    "    x = 0.001 * torch.from_numpy(np.random.randn(N, T, V))\n",
    "    y = torch.from_numpy(np.random.randint(V, size=(N, T))).long()\n",
    "    mask = torch.from_numpy(np.random.rand(N, T)) <= p\n",
    "    print(temporal_softmax_loss(x, y, mask).item())\n",
    "\n",
    "check_loss(100, 1, 10, 1.0)   # Should be about 2.3\n",
    "check_loss(100, 10, 10, 1.0)  # Should be about 23\n",
    "check_loss(5000, 10, 10, 0.1) # Should be within 2.2-2.4\n",
    "\n",
    "# Gradient check for temporal softmax loss\n",
    "np.random.seed(231231)\n",
    "N, T, V = 7, 8, 9\n",
    "\n",
    "x = torch.from_numpy(np.random.randn(N, T, V))\n",
    "y = torch.from_numpy(np.random.randint(V, size=(N, T))).long()\n",
    "mask = torch.from_numpy(np.random.rand(N, T) > 0.5)\n",
    "\n",
    "x.requires_grad_()\n",
    "loss = temporal_softmax_loss(x, y, mask, verbose=False)\n",
    "loss.backward()\n",
    "dx = x.grad.detach().numpy()\n",
    "x = x.detach().numpy()\n",
    "dx_num = eval_numerical_gradient(\n",
    "    lambda x: temporal_softmax_loss(torch.from_numpy(x), y, mask), x, verbose=False)\n",
    "\n",
    "print('dx error: ', rel_error(dx, dx_num))"
   ]
  },
  {
   "cell_type": "markdown",
   "metadata": {
    "id": "ekrVJdaVM4Oy"
   },
   "source": [
    "# RNN for Image Captioning\n",
    "Now that you have implemented the necessary layers, you can combine them to build an image captioning model. Open the file `cs231n/classifiers/rnn_pytorch.py` and look at the `CaptioningRNN` class.\n",
    "\n",
    "Implement the forward pass of the model in the `loss` function. For now you only need to implement the case where `cell_type='rnn'` for vanilla RNNs; you will implement the LSTM case later. After doing so, run the following to check your forward pass using a small test case; you should see error on the order of `e-10` or less."
   ]
  },
  {
   "cell_type": "code",
   "execution_count": 86,
   "metadata": {
    "id": "KUR0MJKxM4Oy",
    "scrolled": false
   },
   "outputs": [
    {
     "name": "stdout",
     "output_type": "stream",
     "text": [
      "loss:  9.83235591002739\n",
      "expected loss:  9.83235591003\n",
      "difference:  2.609468197078968e-12\n"
     ]
    }
   ],
   "source": [
    "N, D, W, H = 10, 20, 30, 40\n",
    "word_to_idx = {'<NULL>': 0, 'cat': 2, 'dog': 3}\n",
    "V = len(word_to_idx)\n",
    "T = 13\n",
    "\n",
    "model = CaptioningRNN(\n",
    "    word_to_idx,\n",
    "    input_dim=D,\n",
    "    wordvec_dim=W,\n",
    "    hidden_dim=H,\n",
    "    cell_type='rnn',\n",
    "    dtype=torch.float64\n",
    ")\n",
    "\n",
    "# Set all model parameters to fixed values\n",
    "for k, v in model.params.items():\n",
    "    model.params[k] = torch.from_numpy(\n",
    "        np.linspace(-1.4, 1.3, num=v.numel()).reshape(*v.shape))\n",
    "\n",
    "features = torch.from_numpy(np.linspace(-1.5, 0.3, num=(N * D)).reshape(N, D))\n",
    "captions = torch.from_numpy((np.arange(N * T) % V).reshape(N, T)).long()\n",
    "\n",
    "loss = model.loss(features, captions).item()\n",
    "expected_loss = 9.83235591003\n",
    "\n",
    "print('loss: ', loss)\n",
    "print('expected loss: ', expected_loss)\n",
    "print('difference: ', abs(loss - expected_loss))"
   ]
  },
  {
   "cell_type": "markdown",
   "metadata": {
    "id": "yYnT5Wv6M4Oy"
   },
   "source": [
    "Run the following cell to perform numeric gradient checking on the `CaptioningRNN` class; you should see errors around the order of `e-6` or less."
   ]
  },
  {
   "cell_type": "code",
   "execution_count": 94,
   "metadata": {
    "id": "kpJoG9KyM4Oy"
   },
   "outputs": [
    {
     "name": "stdout",
     "output_type": "stream",
     "text": [
      "W_embed relative error: 7.405825e-09\n",
      "W_proj relative error: 2.978530e-08\n",
      "W_vocab relative error: 5.813051e-09\n",
      "Wh relative error: 3.722644e-09\n",
      "Wx relative error: 3.272434e-06\n",
      "b relative error: 1.866074e-10\n",
      "b_proj relative error: 3.381132e-10\n",
      "b_vocab relative error: 4.089136e-09\n"
     ]
    }
   ],
   "source": [
    "np.random.seed(231)\n",
    "torch.manual_seed(231)\n",
    "\n",
    "batch_size = 2\n",
    "timesteps = 3\n",
    "input_dim = 4\n",
    "wordvec_dim = 5\n",
    "hidden_dim = 6\n",
    "word_to_idx = {'<NULL>': 0, 'cat': 2, 'dog': 3}\n",
    "vocab_size = len(word_to_idx)\n",
    "\n",
    "captions = torch.from_numpy(np.random.randint(vocab_size, size=(batch_size, timesteps))).long()\n",
    "features = torch.from_numpy(np.random.randn(batch_size, input_dim))\n",
    "\n",
    "model = CaptioningRNN(\n",
    "    word_to_idx,\n",
    "    input_dim=input_dim,\n",
    "    wordvec_dim=wordvec_dim,\n",
    "    hidden_dim=hidden_dim,\n",
    "    cell_type='rnn',\n",
    "    dtype=torch.float64,\n",
    ")\n",
    "\n",
    "for k, v in model.params.items():\n",
    "  v.requires_grad_()\n",
    "loss = model.loss(features, captions)\n",
    "loss.backward()\n",
    "grads = {k: v.grad.detach().numpy() for k, v in model.params.items()}\n",
    "for k, v in model.params.items():\n",
    "  v.requires_grad_(False)\n",
    "\n",
    "for param_name in sorted(grads.keys()):\n",
    "    def fn(val):\n",
    "      model.params[param_name] = torch.from_numpy(val)\n",
    "      ret = model.loss(features, captions).numpy()\n",
    "      return ret\n",
    "\n",
    "    param_grad_num = eval_numerical_gradient(\n",
    "        fn, model.params[param_name].numpy(), verbose=False, h=1e-6)\n",
    "\n",
    "    e = rel_error(param_grad_num, grads[param_name])\n",
    "    print('%s relative error: %e' % (param_name, e))"
   ]
  },
  {
   "cell_type": "markdown",
   "metadata": {
    "id": "SuWAK9M5M4Oy"
   },
   "source": [
    "# Overfit RNN Captioning Model on Small Data\n",
    "Similar to the `Solver` class that we used to train image classification models on the previous assignment, on this assignment we use a `CaptioningSolverPytorch` class to train image captioning models. Open the file `cs231n/captioning_solver_pytorch.py` and read through the `CaptioningSolverPytorch` class; it should look very familiar.\n",
    "\n",
    "Once you have familiarized yourself with the API, run the following to make sure your model overfits a small sample of 100 training examples. You should see a final loss of less than 0.1."
   ]
  },
  {
   "cell_type": "code",
   "execution_count": 101,
   "metadata": {
    "id": "6_VTRf13M4Oy"
   },
   "outputs": [
    {
     "name": "stdout",
     "output_type": "stream",
     "text": [
      "base dir  D:\\VariableK\\GAMES\\cs231n\\assignment2\\cs231n\\datasets/coco_captioning\n",
      "(Iteration 1 / 100) loss: 80.027161\n",
      "(Iteration 11 / 100) loss: 25.580782\n",
      "(Iteration 21 / 100) loss: 3.890573\n",
      "(Iteration 31 / 100) loss: 0.641122\n",
      "(Iteration 41 / 100) loss: 0.133143\n",
      "(Iteration 51 / 100) loss: 0.057637\n",
      "(Iteration 61 / 100) loss: 0.028627\n",
      "(Iteration 71 / 100) loss: 0.022363\n",
      "(Iteration 81 / 100) loss: 0.018533\n",
      "(Iteration 91 / 100) loss: 0.016731\n"
     ]
    },
    {
     "data": {
      "image/png": "[encoded data removed]",
      "text/plain": [
       "<Figure size 1000x800 with 1 Axes>"
      ]
     },
     "metadata": {},
     "output_type": "display_data"
    }
   ],
   "source": [
    "np.random.seed(231)\n",
    "torch.manual_seed(231)\n",
    "\n",
    "small_data = load_coco_data(max_train=50)\n",
    "\n",
    "small_rnn_model = CaptioningRNN(\n",
    "    cell_type='rnn',\n",
    "    word_to_idx=data['word_to_idx'],\n",
    "    input_dim=data['train_features'].shape[1],\n",
    "    hidden_dim=512,\n",
    "    wordvec_dim=256,\n",
    ")\n",
    "\n",
    "small_rnn_solver = CaptioningSolverPytorch(\n",
    "    small_rnn_model, small_data,\n",
    "    num_epochs=50,\n",
    "    batch_size=25,\n",
    "    learning_rate=5e-3,\n",
    "    verbose=True, print_every=10,\n",
    ")\n",
    "\n",
    "small_rnn_solver.train()\n",
    "\n",
    "# Plot the training losses.\n",
    "plt.plot(small_rnn_solver.loss_history)\n",
    "plt.xlabel('Iteration')\n",
    "plt.ylabel('Loss')\n",
    "plt.title('Training loss history')\n",
    "plt.show()"
   ]
  },
  {
   "cell_type": "markdown",
   "metadata": {
    "id": "ExNiqxH8M4Oz"
   },
   "source": [
    "Print final training loss. You should see a final loss of less than 0.1."
   ]
  },
  {
   "cell_type": "code",
   "execution_count": 102,
   "metadata": {
    "id": "CK3iTyxzM4Oz",
    "test": "rnn_final_training_loss"
   },
   "outputs": [
    {
     "name": "stdout",
     "output_type": "stream",
     "text": [
      "Final loss:  0.01337302\n"
     ]
    }
   ],
   "source": [
    "print('Final loss: ', small_rnn_solver.loss_history[-1])"
   ]
  },
  {
   "cell_type": "markdown",
   "metadata": {
    "id": "I_cv_5ppM4Oz"
   },
   "source": [
    "# RNN Sampling at Test Time\n",
    "Unlike classification models, image captioning models behave very differently at training time vs. at test time. At training time, we have access to the ground-truth caption, so we feed ground-truth words as input to the RNN at each timestep. At test time, we sample from the distribution over the vocabulary at each timestep and feed the sample as input to the RNN at the next timestep.\n",
    "\n",
    "In the file `cs231n/classifiers/rnn_pytorch.py`, implement the `sample` method for test-time sampling. After doing so, run the following to sample from your overfitted model on both training and validation data. The samples on training data should be very good. The samples on validation data, however, probably won't make sense."
   ]
  },
  {
   "cell_type": "code",
   "execution_count": 113,
   "metadata": {
    "id": "19-MgyZUM4Oz",
    "scrolled": false
   },
   "outputs": [
    {
     "name": "stdout",
     "output_type": "stream",
     "text": [
      "URL Error:  Not Found http://farm6.staticflickr.com/5242/5374783539_ac300e0e08_z.jpg\n"
     ]
    },
    {
     "ename": "PermissionError",
     "evalue": "[WinError 32] 另一个程序正在使用此文件，进程无法访问。: 'C:\\\\Users\\\\VARIAB~1\\\\AppData\\\\Local\\\\Temp\\\\tmp6dowdb1x'",
     "output_type": "error",
     "traceback": [
      "\u001b[31m---------------------------------------------------------------------------\u001b[39m",
      "\u001b[31mPermissionError\u001b[39m                           Traceback (most recent call last)",
      "\u001b[36mCell\u001b[39m\u001b[36m \u001b[39m\u001b[32mIn[113]\u001b[39m\u001b[32m, line 12\u001b[39m\n\u001b[32m      9\u001b[39m sample_captions = decode_captions(sample_captions, data[\u001b[33m'\u001b[39m\u001b[33midx_to_word\u001b[39m\u001b[33m'\u001b[39m])\n\u001b[32m     11\u001b[39m \u001b[38;5;28;01mfor\u001b[39;00m gt_caption, sample_caption, url \u001b[38;5;129;01min\u001b[39;00m \u001b[38;5;28mzip\u001b[39m(gt_captions, sample_captions, urls):\n\u001b[32m---> \u001b[39m\u001b[32m12\u001b[39m     img = \u001b[43mimage_from_url\u001b[49m\u001b[43m(\u001b[49m\u001b[43murl\u001b[49m\u001b[43m)\u001b[49m\n\u001b[32m     13\u001b[39m     \u001b[38;5;66;03m# Skip missing URLs.\u001b[39;00m\n\u001b[32m     14\u001b[39m     \u001b[38;5;28;01mif\u001b[39;00m img \u001b[38;5;129;01mis\u001b[39;00m \u001b[38;5;28;01mNone\u001b[39;00m: \u001b[38;5;28;01mcontinue\u001b[39;00m\n",
      "\u001b[36mFile \u001b[39m\u001b[32md:\\VariableK\\GAMES\\cs231n\\assignment2\\cs231n\\image_utils.py:71\u001b[39m, in \u001b[36mimage_from_url\u001b[39m\u001b[34m(url)\u001b[39m\n\u001b[32m     69\u001b[39m         ff.write(f.read())\n\u001b[32m     70\u001b[39m     img = imread(fname)\n\u001b[32m---> \u001b[39m\u001b[32m71\u001b[39m     os.remove(fname)\n\u001b[32m     72\u001b[39m     \u001b[38;5;28;01mreturn\u001b[39;00m img\n\u001b[32m     73\u001b[39m \u001b[38;5;28;01mexcept\u001b[39;00m urllib.error.URLError \u001b[38;5;28;01mas\u001b[39;00m e:\n",
      "\u001b[31mPermissionError\u001b[39m: [WinError 32] 另一个程序正在使用此文件，进程无法访问。: 'C:\\\\Users\\\\VARIAB~1\\\\AppData\\\\Local\\\\Temp\\\\tmp6dowdb1x'"
     ]
    }
   ],
   "source": [
    "# If you get an error, the URL just no longer exists, so don't worry!\n",
    "# You can re-sample as many times as you want.\n",
    "for split in ['train', 'val']:\n",
    "    minibatch = sample_coco_minibatch(small_data, split=split, batch_size=2)\n",
    "    gt_captions, features, urls = minibatch\n",
    "    gt_captions = decode_captions(gt_captions, data['idx_to_word'])\n",
    "\n",
    "    sample_captions = small_rnn_model.sample(torch.from_numpy(features)).numpy()\n",
    "    sample_captions = decode_captions(sample_captions, data['idx_to_word'])\n",
    "\n",
    "    for gt_caption, sample_caption, url in zip(gt_captions, sample_captions, urls):\n",
    "        img = image_from_url(url)\n",
    "        # Skip missing URLs.\n",
    "        if img is None: continue\n",
    "        plt.imshow(img)\n",
    "        plt.title('%s\\n%s\\nGT:%s' % (split, sample_caption, gt_caption))\n",
    "        plt.axis('off')\n",
    "        plt.show()"
   ]
  },
  {
   "cell_type": "markdown",
   "metadata": {
    "id": "x9gU1OwkM4Oz",
    "tags": [
     "pdf-inline"
    ]
   },
   "source": [
    "# Inline Question 1\n",
    "\n",
    "In our current image captioning setup, our RNN language model produces a word at every timestep as its output. However, an alternate way to pose the problem is to train the network to operate over _characters_ (e.g. 'a', 'b', etc.) as opposed to words, so that at it every timestep, it receives the previous character as input and tries to predict the next character in the sequence. For example, the network might generate a caption like\n",
    "\n",
    "'A', ' ', 'c', 'a', 't', ' ', 'o', 'n', ' ', 'a', ' ', 'b', 'e', 'd'\n",
    "\n",
    "Can you describe one advantage of an image-captioning model that uses a character-level RNN? Can you also describe one disadvantage? HINT: there are several valid answers, but it might be useful to compare the parameter space of word-level and character-level models.\n",
    "\n",
    "**Your Answer:**\n"
   ]
  }
 ],
 "metadata": {
  "accelerator": "GPU",
  "colab": {
   "gpuType": "T4",
   "provenance": []
  },
  "kernelspec": {
   "display_name": ".venv",
   "language": "python",
   "name": "python3"
  },
  "language_info": {
   "codemirror_mode": {
    "name": "ipython",
    "version": 3
   },
   "file_extension": ".py",
   "mimetype": "text/x-python",
   "name": "python",
   "nbconvert_exporter": "python",
   "pygments_lexer": "ipython3",
   "version": "3.11.7"
  }
 },
 "nbformat": 4,
 "nbformat_minor": 0
}
